{
 "cells": [
  {
   "cell_type": "code",
   "execution_count": 1,
   "metadata": {},
   "outputs": [],
   "source": [
    "import pandas as pd\n",
    "import time\n",
    "from time import sleep,ctime\n",
    "import requests\n",
    "import json\n",
    "import datetime\n",
    "from selenium import webdriver\n",
    "from bs4 import BeautifulSoup\n",
    "import multiprocessing as mp\n",
    "import threading\n",
    "from fake_useragent import UserAgent\n",
    "from selenium.webdriver.chrome.options import Options\n",
    "from queue import Queue\n",
    "\n",
    "\n",
    "\n",
    "def get_ip(q):\n",
    "    r = requests.get(url='http://pubproxy.com/api/praaaoxy?speed=25&https=true&limit=20')\n",
    "    ip_number = 0\n",
    "    print(r)\n",
    "    while r.status_code != 200:\n",
    "        if ip_number<3:\t\n",
    "            print('if')\n",
    "            ip_number += 1\n",
    "            r = requests.get(url='http://pubproxy.com/api/proxy?speed=25&https=true')\n",
    "            time.sleep(5)\n",
    "            print('!=200',ip_number)\n",
    "        else:\n",
    "            print('else')\n",
    "            break\n",
    "    try:\n",
    "        print('try')\n",
    "        t_json = r.json()\n",
    "        ip = t_json['data'][0]['ipPort']\n",
    "        q.put(ip)\n",
    "        print(str(d)+'拿到ip'+str(ip))\n",
    "    except Exception as e:\n",
    "        print('失敗'+str(e))\n",
    "\n"
   ]
  },
  {
   "cell_type": "code",
   "execution_count": 21,
   "metadata": {},
   "outputs": [],
   "source": [
    "r = requests.get(url='http://pubproxy.com/api/proxy?speed=25&https=true&limit=5')"
   ]
  },
  {
   "cell_type": "code",
   "execution_count": 23,
   "metadata": {},
   "outputs": [
    {
     "name": "stdout",
     "output_type": "stream",
     "text": [
      "                                                data  count\n",
      "0  {'ipPort': '94.232.126.225:35445', 'ip': '94.2...      5\n",
      "1  {'ipPort': '103.16.62.126:8080', 'ip': '103.16...      5\n",
      "2  {'ipPort': '195.230.130.73:50819', 'ip': '195....      5\n",
      "3  {'ipPort': '159.203.65.214:3128', 'ip': '159.2...      5\n",
      "4  {'ipPort': '199.115.254.122:46829', 'ip': '199...      5\n"
     ]
    }
   ],
   "source": [
    "t_json = r.json()\n",
    "t_json\n",
    "# t_json['data']\n",
    "\n",
    "stock_df = pd.DataFrame(t_json)\n",
    "print(stock_df)\n",
    "# t_json['data'][0]['ipPort']\n",
    "# ip = t_json['data'][0]['ipPort']"
   ]
  },
  {
   "cell_type": "code",
   "execution_count": 13,
   "metadata": {},
   "outputs": [
    {
     "data": {
      "text/plain": [
       "0    {'ipPort': '203.153.107.166:53557', 'ip': '203...\n",
       "1    {'ipPort': '157.230.150.101:8080', 'ip': '157....\n",
       "2    {'ipPort': '190.104.8.19:8080', 'ip': '190.104...\n",
       "3    {'ipPort': '144.217.74.227:1080', 'ip': '144.2...\n",
       "4    {'ipPort': '92.255.164.187:3128', 'ip': '92.25...\n",
       "Name: data, dtype: object"
      ]
     },
     "execution_count": 13,
     "metadata": {},
     "output_type": "execute_result"
    }
   ],
   "source": [
    "stock_df['data']"
   ]
  },
  {
   "cell_type": "code",
   "execution_count": 17,
   "metadata": {},
   "outputs": [
    {
     "data": {
      "text/plain": [
       "{'data': [{'ipPort': '192.99.191.237:1080',\n",
       "   'ip': '192.99.191.237',\n",
       "   'port': '1080',\n",
       "   'country': 'CA',\n",
       "   'last_checked': '2019-03-28 07:37:16',\n",
       "   'proxy_level': 'elite',\n",
       "   'type': 'http',\n",
       "   'speed': '9',\n",
       "   'support': {'https': 1,\n",
       "    'get': 1,\n",
       "    'post': 1,\n",
       "    'cookies': 1,\n",
       "    'referer': 1,\n",
       "    'user_agent': 1,\n",
       "    'google': 0}},\n",
       "  {'ipPort': '45.55.23.78:8080',\n",
       "   'ip': '45.55.23.78',\n",
       "   'port': '8080',\n",
       "   'country': 'US',\n",
       "   'last_checked': '2019-03-28 07:42:10',\n",
       "   'proxy_level': 'anonymous',\n",
       "   'type': 'http',\n",
       "   'speed': '9',\n",
       "   'support': {'https': 0,\n",
       "    'get': 1,\n",
       "    'post': 1,\n",
       "    'cookies': 1,\n",
       "    'referer': 1,\n",
       "    'user_agent': 1,\n",
       "    'google': 0}},\n",
       "  {'ipPort': '134.119.222.232:1080',\n",
       "   'ip': '134.119.222.232',\n",
       "   'port': '1080',\n",
       "   'country': 'DE',\n",
       "   'last_checked': '2019-03-28 07:25:18',\n",
       "   'proxy_level': 'elite',\n",
       "   'type': 'http',\n",
       "   'speed': '10',\n",
       "   'support': {'https': 1,\n",
       "    'get': 1,\n",
       "    'post': 1,\n",
       "    'cookies': 1,\n",
       "    'referer': 1,\n",
       "    'user_agent': 1,\n",
       "    'google': 0}},\n",
       "  {'ipPort': '185.103.21.53:3333',\n",
       "   'ip': '185.103.21.53',\n",
       "   'port': '3333',\n",
       "   'country': 'LB',\n",
       "   'last_checked': '2019-03-28 07:25:06',\n",
       "   'proxy_level': 'elite',\n",
       "   'type': 'http',\n",
       "   'speed': '13',\n",
       "   'support': {'https': 0,\n",
       "    'get': 1,\n",
       "    'post': 1,\n",
       "    'cookies': 1,\n",
       "    'referer': 1,\n",
       "    'user_agent': 1,\n",
       "    'google': 0}},\n",
       "  {'ipPort': '5.160.167.234:38313',\n",
       "   'ip': '5.160.167.234',\n",
       "   'port': '38313',\n",
       "   'country': 'IR',\n",
       "   'last_checked': '2019-03-28 07:23:07',\n",
       "   'proxy_level': 'elite',\n",
       "   'type': 'http',\n",
       "   'speed': '10',\n",
       "   'support': {'https': 0,\n",
       "    'get': 1,\n",
       "    'post': 1,\n",
       "    'cookies': 1,\n",
       "    'referer': 1,\n",
       "    'user_agent': 1,\n",
       "    'google': 0}}],\n",
       " 'count': 5}"
      ]
     },
     "execution_count": 17,
     "metadata": {},
     "output_type": "execute_result"
    }
   ],
   "source": [
    "t_json"
   ]
  },
  {
   "cell_type": "code",
   "execution_count": 18,
   "metadata": {},
   "outputs": [
    {
     "data": {
      "text/plain": [
       "{'data': [{'ipPort': '222.124.44.165:8080',\n",
       "   'ip': '222.124.44.165',\n",
       "   'port': '8080',\n",
       "   'country': 'ID',\n",
       "   'last_checked': '2019-03-26 10:27:19',\n",
       "   'proxy_level': 'anonymous',\n",
       "   'type': 'http',\n",
       "   'speed': '10',\n",
       "   'support': {'https': 1,\n",
       "    'get': 1,\n",
       "    'post': 1,\n",
       "    'cookies': 1,\n",
       "    'referer': 1,\n",
       "    'user_agent': 1,\n",
       "    'google': 0}},\n",
       "  {'ipPort': '125.27.25.85:8080',\n",
       "   'ip': '125.27.25.85',\n",
       "   'port': '8080',\n",
       "   'country': 'TH',\n",
       "   'last_checked': '2019-03-26 10:27:16',\n",
       "   'proxy_level': 'anonymous',\n",
       "   'type': 'http',\n",
       "   'speed': '10',\n",
       "   'support': {'https': 1,\n",
       "    'get': 1,\n",
       "    'post': 1,\n",
       "    'cookies': 1,\n",
       "    'referer': 1,\n",
       "    'user_agent': 1,\n",
       "    'google': 0}},\n",
       "  {'ipPort': '200.48.194.67:3128',\n",
       "   'ip': '200.48.194.67',\n",
       "   'port': '3128',\n",
       "   'country': 'PE',\n",
       "   'last_checked': '2019-03-26 10:27:19',\n",
       "   'proxy_level': 'anonymous',\n",
       "   'type': 'http',\n",
       "   'speed': '15',\n",
       "   'support': {'https': 1,\n",
       "    'get': 1,\n",
       "    'post': 1,\n",
       "    'cookies': 1,\n",
       "    'referer': 1,\n",
       "    'user_agent': 1,\n",
       "    'google': 0}}],\n",
       " 'count': 3}"
      ]
     },
     "execution_count": 18,
     "metadata": {},
     "output_type": "execute_result"
    }
   ],
   "source": [
    "aa = r.json()\n",
    "aa\n",
    "bb = a.json()\n",
    "bb\n",
    "cc = b.json()\n",
    "cc"
   ]
  },
  {
   "cell_type": "code",
   "execution_count": 12,
   "metadata": {},
   "outputs": [
    {
     "data": {
      "text/plain": [
       "'{\"data\":[{\"ipPort\":\"200.48.194.67:3128\",\"ip\":\"200.48.194.67\",\"port\":\"3128\",\"country\":\"PE\",\"last_checked\":\"2019-03-26 10:27:19\",\"proxy_level\":\"anonymous\",\"type\":\"http\",\"speed\":\"15\",\"support\":{\"https\":1,\"get\":1,\"post\":1,\"cookies\":1,\"referer\":1,\"user_agent\":1,\"google\":0}},{\"ipPort\":\"125.27.25.85:8080\",\"ip\":\"125.27.25.85\",\"port\":\"8080\",\"country\":\"TH\",\"last_checked\":\"2019-03-26 10:27:16\",\"proxy_level\":\"anonymous\",\"type\":\"http\",\"speed\":\"10\",\"support\":{\"https\":1,\"get\":1,\"post\":1,\"cookies\":1,\"referer\":1,\"user_agent\":1,\"google\":0}},{\"ipPort\":\"222.124.44.165:8080\",\"ip\":\"222.124.44.165\",\"port\":\"8080\",\"country\":\"ID\",\"last_checked\":\"2019-03-26 10:27:19\",\"proxy_level\":\"anonymous\",\"type\":\"http\",\"speed\":\"10\",\"support\":{\"https\":1,\"get\":1,\"post\":1,\"cookies\":1,\"referer\":1,\"user_agent\":1,\"google\":0}}],\"count\":3}'"
      ]
     },
     "execution_count": 12,
     "metadata": {},
     "output_type": "execute_result"
    }
   ],
   "source": [
    "a = requests.get(url='http://pubproxy.com/api/proxy?speed=25&https=true&limit=20')\n"
   ]
  },
  {
   "cell_type": "code",
   "execution_count": 15,
   "metadata": {},
   "outputs": [
    {
     "data": {
      "text/plain": [
       "'{\"data\":[{\"ipPort\":\"222.124.44.165:8080\",\"ip\":\"222.124.44.165\",\"port\":\"8080\",\"country\":\"ID\",\"last_checked\":\"2019-03-26 10:27:19\",\"proxy_level\":\"anonymous\",\"type\":\"http\",\"speed\":\"10\",\"support\":{\"https\":1,\"get\":1,\"post\":1,\"cookies\":1,\"referer\":1,\"user_agent\":1,\"google\":0}},{\"ipPort\":\"125.27.25.85:8080\",\"ip\":\"125.27.25.85\",\"port\":\"8080\",\"country\":\"TH\",\"last_checked\":\"2019-03-26 10:27:16\",\"proxy_level\":\"anonymous\",\"type\":\"http\",\"speed\":\"10\",\"support\":{\"https\":1,\"get\":1,\"post\":1,\"cookies\":1,\"referer\":1,\"user_agent\":1,\"google\":0}},{\"ipPort\":\"200.48.194.67:3128\",\"ip\":\"200.48.194.67\",\"port\":\"3128\",\"country\":\"PE\",\"last_checked\":\"2019-03-26 10:27:19\",\"proxy_level\":\"anonymous\",\"type\":\"http\",\"speed\":\"15\",\"support\":{\"https\":1,\"get\":1,\"post\":1,\"cookies\":1,\"referer\":1,\"user_agent\":1,\"google\":0}}],\"count\":3}'"
      ]
     },
     "execution_count": 15,
     "metadata": {},
     "output_type": "execute_result"
    }
   ],
   "source": [
    "b = requests.get(url='http://pubproxy.com/api/proxy?https=true&limit=20')\n"
   ]
  },
  {
   "cell_type": "code",
   "execution_count": null,
   "metadata": {},
   "outputs": [],
   "source": [
    "import pandas as pd\n",
    "import time\n",
    "from time import sleep,ctime\n",
    "import requests\n",
    "import json\n",
    "import datetime\n",
    "from selenium import webdriver\n",
    "from bs4 import BeautifulSoup\n",
    "import multiprocessing as mp\n",
    "import threading\n",
    "from fake_useragent import UserAgent\n",
    "from selenium.webdriver.chrome.options import Options\n",
    "from queue import Queue\n",
    "\n",
    "def get_ip(q,d):\n",
    "    r = requests.get(url='http://pubproxy.com/api/proxy?speed=25&https=true')\n",
    "    ip_number = 0\n",
    "    while r.status_code != 200:\n",
    "        if ip_number<3:\t\n",
    "            ip_number += 1\n",
    "            r = requests.get(url='http://pubproxy.com/api/proxy?speed=25&https=true')\n",
    "            time.sleep(5)\n",
    "            print('!=200',ip_number)\n",
    "        else:\n",
    "            break\n",
    "    try:\n",
    "        t_json = r.json()\n",
    "        ip = t_json['data'][0]['ipPort']\n",
    "        print(str(d)+'拿到ip'+str(ip))\n",
    "        q.put(ip)\n",
    "    except Exception as e:\n",
    "        print(str(d)+'失敗'+str(e))\n",
    "\n",
    "\n",
    "def main(url_list,d,sate): \n",
    "    q =Queue()\n",
    "    \n",
    "    save_number = 0\n",
    "    fail_number = 0\n",
    "    fail_ip = 0\n",
    "\n",
    "    ua = UserAgent()\n",
    "    uu = ua.random\n",
    "    opts = Options()\n",
    "    # # opts.add_argument('--headless')  #規避google bug\n",
    "    # # opts.add_argument('--disable-gpu')\n",
    "\n",
    "    ip =[\"185.103.88.103:61259\",\"157.230.8.128:8080\",\"45.120.112.65:8080\",\"52.38.67.232:3128\",\"213.109.234.4:8080\",\"67.205.145.105:3128\",\"118.174.233.102:55819\",\"195.230.131.210:3128\",\"36.66.217.179:8080\"]\n",
    "    opts.add_argument(\"user-agent={}\".format(uu))  \n",
    "    opts.add_argument('--proxy-server=http://'+str(ip[d]))\n",
    "    driver = webdriver.Chrome('/Users/max/Documents/GitHub/max2019/爬蟲_產品目錄/Hotcar/chromedriver',chrome_options=opts)\n",
    "\n",
    "    for i in range(3):\n",
    "        while fail_ip>0:\n",
    "            # proxy\n",
    "            get_ip(q,d)\n",
    "            ip = q.get()\n",
    "            print('-------------------------------------------------',ip)\n",
    "            ua = UserAgent()\n",
    "            uu = ua.random\n",
    "            opts = Options()\n",
    "            opts.add_argument('--proxy-server=http://'+ip)\n",
    "            opts.add_argument(\"user-agent={}\".format(uu))  \n",
    "            print('-------------------------------------------------開啟新driver')\n",
    "            fail_ip=0\n",
    "            driver.close()\n",
    "            driver = webdriver.Chrome('/Users/max/Documents/GitHub/max2019/爬蟲_產品目錄/Hotcar/chromedriver',chrome_options=opts)\n",
    "        try:\n",
    "            print(str(d)+'開始執行crawler'+str(url_list[i]))\n",
    "            driver.get('https://'+url_list[i])\n",
    "            time.sleep(10)\n",
    "\n",
    "            lock.acquire()\n",
    "\n",
    "            link = url_list[i]\n",
    "            car_id = url_list[i].split('?TSEQNO=')[1].split('&')[0]\n",
    "            soup = BeautifulSoup(driver.page_source,\"html.parser\")\n",
    "            tt = soup.select('#main-message > h1 > span')\n",
    "            if tt[0].text == '沒有網際網路連線':\n",
    "                fail_ip +=1 \n",
    "                print(tt[0].text)\n",
    "\n",
    "            text_hotcar = soup.select('.text')\n",
    "            brand = text_hotcar[0].text.strip()\n",
    "            year = text_hotcar[3].text.strip()\n",
    "\n",
    "            add = soup.select('#cartxtin > div.location')[0].text.split('/')[0].strip()\n",
    "            shop = soup.select('#cartxtin > div.location')[0].text.split('/')[1].strip()\n",
    "            money = float(soup.select('#cartxt > div.title.price > span > span')[0].text.strip())*10000\n",
    "            pic = soup.select('.img')[1].get('style').split('url(\"')[1].split('\")')[0]\n",
    "\n",
    "            stock_dic = {\n",
    "                '連結':[link],\n",
    "                '品牌':[brand],\n",
    "                '車型':[car_id],\n",
    "                '年份':[year],\n",
    "                '售價':[money],\n",
    "                '縣市':[add],\n",
    "                '車商':[shop],\n",
    "                '圖片':[pic],\n",
    "            }\n",
    "            \n",
    "            stock_df = pd.DataFrame(stock_dic)\n",
    "            # stock_df.to_csv('/Users/max/Desktop/0'+str(d)+'.csv', index=False, mode='a', header=False)\n",
    "            stock_df.to_csv('/Users/max/Desktop/05.csv', index=False, mode='a', header=False)\n",
    "            # driver.close()\n",
    "            print (str(d)+\"完成save時間\")  \n",
    "            save_number += 1          \n",
    "            lock.release()\n",
    "        except Exception as e:\n",
    "            lock.release()\n",
    "            fail_number += 1          \n",
    "            print(str(d)+'失敗'+str(e))   \n",
    "    sate.append(str(d)+',成功'+str(save_number)+',失敗'+str(fail_number))\n",
    "    print('========================================================================'+str(d)+',成功'+str(save_number)+',失敗'+str(fail_number))\n",
    "    driver.close()\n",
    "\n",
    "\n",
    "if __name__=='__main__':\n",
    "\n",
    "    lock=threading.Lock()\n",
    "\n",
    "\t#建立DF\n",
    "    df_end = pd.DataFrame({},columns=['連結','品牌','車型','年份','售價','縣市','車商','圖片'])\n",
    "    df_end.to_csv('/Users/max/Desktop/05.csv', index=False)\n",
    "\n",
    "\t#讀取URL\n",
    "    df = pd.read_csv('/Users/max/Desktop/raw.csv')\n",
    " \n",
    "\n",
    "    t_sum = 2\n",
    "    url_list = int(len(df['頁面'])/t_sum)\n",
    "    t_list=[]\n",
    "    sate = []\n",
    "\n",
    "    for i in range(t_sum):\n",
    "        url = df['頁面'][url_list*i:url_list*(i+1)].values\n",
    "        t_list.append(threading.Thread(target=main,args=(url,i,sate)))\n",
    "  \n",
    "\n",
    "    for t in t_list:\n",
    "        t.start()\n",
    "        time.sleep(7)\n",
    "        print('開始執行:'+str(t))\n",
    "\n",
    "    for t in t_list:\n",
    "        t.join()\n",
    "    print(sate)\n"
   ]
  },
  {
   "cell_type": "code",
   "execution_count": 42,
   "metadata": {},
   "outputs": [
    {
     "name": "stdout",
     "output_type": "stream",
     "text": [
      "------------------------------------------------- 185.103.88.103:61259\n",
      "-------------------------------------------------開啟新driver\n"
     ]
    },
    {
     "name": "stderr",
     "output_type": "stream",
     "text": [
      "/Users/max/anaconda3/lib/python3.7/site-packages/ipykernel_launcher.py:10: DeprecationWarning: use options instead of chrome_options\n",
      "  # Remove the CWD from sys.path while we load stuff.\n"
     ]
    },
    {
     "name": "stdout",
     "output_type": "stream",
     "text": [
      "\n",
      "done\n"
     ]
    }
   ],
   "source": [
    "ip = '185.103.88.103:61259'\n",
    "print('-------------------------------------------------',ip)\n",
    "ua = UserAgent()\n",
    "uu = ua.random\n",
    "opts = Options()\n",
    "opts.add_argument('--proxy-server=http://'+ip)\n",
    "opts.add_argument(\"user-agent={}\".format(uu))  \n",
    "print('-------------------------------------------------開啟新driver')\n",
    "url_list = df['頁面'][0:1].values\n",
    "driver = webdriver.Chrome('/Users/max/Documents/GitHub/max2019/爬蟲_產品目錄/Hotcar/chromedriver',chrome_options=opts)\n",
    "\n",
    "driver.get('https://'+url_list[0])\n",
    "\n",
    "link = url_list[0]\n",
    "car_id = url_list[0].split('?TSEQNO=')[1].split('&')[0]\n",
    "soup = BeautifulSoup(driver.page_source,\"html.parser\")\n",
    "\n",
    "# print(soup.select('#main-message > h1 > span'))\n",
    "\n",
    "print(soup.select('h1')[0].text.strip())\n",
    "\n",
    "# text_h1 = '[<h1 jstcache=\"0\"><span jsselect=\"heading\" jstcache=\"11\" jsvalues=\".innerHTML:msg\">沒有網際網路連線</span><a class=\"hidden\" id=\"error-information-button\" jstcache=\"0\" onclick=\"toggleErrorInformationPopup();\"></a></h1>]'\n",
    "if soup.select('h1')[0].text.strip() == '沒有網際網路連線':\n",
    "    fail_ip +=1 \n",
    "    print(text_h1,'成功')\n",
    "print('done')"
   ]
  },
  {
   "cell_type": "code",
   "execution_count": null,
   "metadata": {},
   "outputs": [],
   "source": []
  }
 ],
 "metadata": {
  "kernelspec": {
   "display_name": "Python 3",
   "language": "python",
   "name": "python3"
  },
  "language_info": {
   "codemirror_mode": {
    "name": "ipython",
    "version": 3
   },
   "file_extension": ".py",
   "mimetype": "text/x-python",
   "name": "python",
   "nbconvert_exporter": "python",
   "pygments_lexer": "ipython3",
   "version": "3.7.1"
  }
 },
 "nbformat": 4,
 "nbformat_minor": 2
}
